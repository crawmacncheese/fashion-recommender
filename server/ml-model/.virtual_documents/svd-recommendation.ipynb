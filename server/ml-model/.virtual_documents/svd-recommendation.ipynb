import tensorflow as tf
import pandas as pd
import matplotlib.pyplot as plt
from mpl_toolkits.mplot3d import Axes3D
import numpy as np
import os


# step 1: preprocess data - read from csv and multiply with tf.matmul

# Read CSV files into pandas DataFrames, excluding headers
userFeatures = pd.read_csv('./dataset/raw-users-features-dataset.csv', header=None)
featuresItems = pd.read_csv('./dataset/raw-features-items-dataset.csv', header=None)

# Here we preprocess the data and store the values in the matrices
usersFeaturesMatrix = userFeatures.values
featuresItemsMatrix = featuresItems.values

# Print to check the data
print("Users x Features: ", usersFeaturesMatrix.shape)
print("Features x Items: ", featuresItemsMatrix.shape)

# Step 1: now we can multiply the matrices together to get our users-items matrix
# Convert NumPy arrays to TensorFlow tensors
userFeatures_tensor = tf.constant(usersFeaturesMatrix, dtype=tf.float32)
featuresItems_tensor = tf.constant(featuresItemsMatrix, dtype=tf.float32)

# Perform matrix multiplication with TensorFlow
usersItemsMatrix = tf.matmul(userFeatures_tensor, featuresItems_tensor)

# Print the product
print(usersItemsMatrix)



# step 2: now we perform singular value decomposition (SVD) on the usersItemsMatrix
u, s, v = tf.linalg.svd(usersItemsMatrix)

# print the shapes of the resulting matrices
print("Shape of U matrix:", u.shape)
print("Shape of Sigma matrix:", s.shape)
print("Shape of V matrix:", v.shape)


# print the similarity matrices

print("U matrix:")
print(u.numpy())  # convert tf tensor to numpy array for printing
print("\nSigma matrix:")
print(s.numpy())  # convert tf tensor to numpy array for printing
print("\nV matrix:")
print(v.numpy())  # convert tf tensor to numpy array for printing


fig = plt.figure()
ax = fig.add_subplot(111, projection='3d')

# Generate indices for x, y, and z axes
indices = np.arange(len(s))

# Plot the singular values in 3D space
fig = plt.figure()
ax = fig.add_subplot(111, projection='3d')

# Generate indices for x, y, and z axes
indices = np.arange(len(s))

# Plot the singular values in 3D space
ax.scatter(indices, np.zeros_like(indices), s)

# Set labels and title
ax.set_xlabel('Index')
ax.set_ylabel('Zero')
ax.set_zlabel('Singular Value')
ax.set_title('Singular Values of Users-Items Matrix')

plt.show()



